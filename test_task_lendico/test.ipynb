{
 "cells": [
  {
   "cell_type": "code",
   "execution_count": 2,
   "metadata": {
    "pycharm": {
     "is_executing": false
    }
   },
   "outputs": [],
   "source": [
    "from run import run_etl, status, reset_tables_timestamps"
   ]
  },
  {
   "cell_type": "markdown",
   "metadata": {},
   "source": [
    "#### Before you start, you should do some steps\n",
    "\n",
    "   1) Open `postgresql.conf` in `postgres/data` folder\n",
    "          \n",
    "   2) Enable __track_commit_timestamp__\n",
    "   (replace `#track_commit_timestamp = off` to `track_commit_timestamp = on`)\n",
    "         \n",
    "   3) Restart postgres server\n",
    "          \n",
    "   4) Load `set_up_python.sql` file\n",
    "          \n",
    "   5) Target DB should be __empty__ (for clarity of test cases)\n",
    "         \n",
    "This is necessary for the correct execution of the 3-rd tasks (extracting after the last successful ran)"
   ]
  },
  {
   "cell_type": "markdown",
   "metadata": {},
   "source": [
    "### Testing Lendico Data Engineer Take Home challenge (Python part)"
   ]
  },
  {
   "cell_type": "markdown",
   "metadata": {},
   "source": [
    "Initial status of all DB:"
   ]
  },
  {
   "cell_type": "code",
   "execution_count": 3,
   "metadata": {},
   "outputs": [
    {
     "name": "stdout",
     "output_type": "stream",
     "text": [
      "------------------------------\n",
      "STATUS db = source\n",
      "Tables in DB:\n",
      "--- address has 99 rows\n",
      "--- company has 99 rows\n",
      "------------------------------\n",
      "------------------------------\n",
      "STATUS db = target\n",
      "Tables in DB:\n",
      "--- No tables in target\n",
      "------------------------------\n"
     ]
    }
   ],
   "source": [
    "status()"
   ]
  },
  {
   "cell_type": "markdown",
   "metadata": {},
   "source": [
    "Target DB has no tables"
   ]
  },
  {
   "cell_type": "markdown",
   "metadata": {},
   "source": [
    "#### 1st task - ETL process"
   ]
  },
  {
   "cell_type": "code",
   "execution_count": 4,
   "metadata": {},
   "outputs": [
    {
     "name": "stdout",
     "output_type": "stream",
     "text": [
      "starting etl\n",
      "extract from source\n",
      "Created table 'company' in target\n",
      "Created table 'address' in target\n",
      "---  data loaded to target company: \n",
      "updated timestamp for company: 2021-07-28 17:56:14.098251+02:00\n",
      "---  data loaded to target address: \n",
      "updated timestamp for address: 2021-07-28 17:56:14.122639+02:00\n"
     ]
    }
   ],
   "source": [
    "run_etl()"
   ]
  },
  {
   "cell_type": "markdown",
   "metadata": {},
   "source": [
    "By logging we can see, that data loaded successfully and timestamps of last ran are saved.\n",
    "\n",
    "Let's check status"
   ]
  },
  {
   "cell_type": "code",
   "execution_count": 5,
   "metadata": {},
   "outputs": [
    {
     "name": "stdout",
     "output_type": "stream",
     "text": [
      "------------------------------\n",
      "STATUS db = source\n",
      "Tables in DB:\n",
      "--- address has 99 rows\n",
      "--- company has 99 rows\n",
      "------------------------------\n",
      "------------------------------\n",
      "STATUS db = target\n",
      "Tables in DB:\n",
      "--- company has 99 rows\n",
      "--- address has 99 rows\n",
      "------------------------------\n"
     ]
    }
   ],
   "source": [
    "status()"
   ]
  },
  {
   "cell_type": "markdown",
   "metadata": {},
   "source": [
    "#### 2nd task - not insert if row already exists"
   ]
  },
  {
   "cell_type": "markdown",
   "metadata": {},
   "source": [
    "For testing that, we'll reset timestamp_counter, except default"
   ]
  },
  {
   "cell_type": "code",
   "execution_count": 6,
   "metadata": {},
   "outputs": [],
   "source": [
    "reset_tables_timestamps()"
   ]
  },
  {
   "cell_type": "code",
   "execution_count": 7,
   "metadata": {},
   "outputs": [
    {
     "name": "stdout",
     "output_type": "stream",
     "text": [
      "starting etl\n",
      "extract from source\n",
      "---  data loaded to target company: \n",
      "updated timestamp for company: 2021-07-28 17:57:29.782788+02:00\n",
      "---  data loaded to target address: \n",
      "updated timestamp for address: 2021-07-28 17:57:29.797653+02:00\n"
     ]
    }
   ],
   "source": [
    "run_etl()"
   ]
  },
  {
   "cell_type": "markdown",
   "metadata": {},
   "source": [
    "Data was loaded, in spite of 3rd condition (we'll see it later)"
   ]
  },
  {
   "cell_type": "code",
   "execution_count": 8,
   "metadata": {},
   "outputs": [
    {
     "name": "stdout",
     "output_type": "stream",
     "text": [
      "------------------------------\n",
      "STATUS db = source\n",
      "Tables in DB:\n",
      "--- address has 99 rows\n",
      "--- company has 99 rows\n",
      "------------------------------\n",
      "------------------------------\n",
      "STATUS db = target\n",
      "Tables in DB:\n",
      "--- company has 99 rows\n",
      "--- address has 99 rows\n",
      "------------------------------\n"
     ]
    }
   ],
   "source": [
    "status()"
   ]
  },
  {
   "cell_type": "markdown",
   "metadata": {},
   "source": [
    "But target tables are still unchanged, like in last status() check"
   ]
  },
  {
   "cell_type": "markdown",
   "metadata": {},
   "source": [
    "#### 3rd task - tracking and exctracting new data only"
   ]
  },
  {
   "cell_type": "markdown",
   "metadata": {},
   "source": [
    "We'll repeat etl process one more time to see there is no new data to insert."
   ]
  },
  {
   "cell_type": "code",
   "execution_count": 9,
   "metadata": {},
   "outputs": [
    {
     "name": "stdout",
     "output_type": "stream",
     "text": [
      "starting etl\n",
      "extract from source\n",
      "--- data is empty from company\n",
      "--- data is empty from address\n"
     ]
    }
   ],
   "source": [
    "run_etl()"
   ]
  },
  {
   "cell_type": "markdown",
   "metadata": {},
   "source": [
    "The data is empty, so no loaded processes was ran. "
   ]
  },
  {
   "cell_type": "code",
   "execution_count": 10,
   "metadata": {},
   "outputs": [
    {
     "name": "stdout",
     "output_type": "stream",
     "text": [
      "------------------------------\n",
      "STATUS db = source\n",
      "Tables in DB:\n",
      "--- address has 99 rows\n",
      "--- company has 99 rows\n",
      "------------------------------\n",
      "------------------------------\n",
      "STATUS db = target\n",
      "Tables in DB:\n",
      "--- company has 99 rows\n",
      "--- address has 99 rows\n",
      "------------------------------\n"
     ]
    }
   ],
   "source": [
    "status()"
   ]
  },
  {
   "cell_type": "code",
   "execution_count": null,
   "metadata": {},
   "outputs": [],
   "source": []
  }
 ],
 "metadata": {
  "kernelspec": {
   "display_name": "Python 3 (ipykernel)",
   "language": "python",
   "name": "python3"
  },
  "language_info": {
   "codemirror_mode": {
    "name": "ipython",
    "version": 3
   },
   "file_extension": ".py",
   "mimetype": "text/x-python",
   "name": "python",
   "nbconvert_exporter": "python",
   "pygments_lexer": "ipython3",
   "version": "3.7.3"
  }
 },
 "nbformat": 4,
 "nbformat_minor": 1
}
